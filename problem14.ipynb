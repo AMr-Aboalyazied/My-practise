{
 "cells": [
  {
   "cell_type": "code",
   "execution_count": 7,
   "metadata": {},
   "outputs": [],
   "source": [
    "def sol_seq(n):\n",
    "    a=1\n",
    "    while n!=1:\n",
    "        a+=1\n",
    "        if n%2==0:\n",
    "            n=n/2\n",
    "        else:\n",
    "            n=(3*n)+1\n",
    "    return a        "
   ]
  },
  {
   "cell_type": "code",
   "execution_count": 18,
   "metadata": {},
   "outputs": [
    {
     "name": "stdout",
     "output_type": "stream",
     "text": [
      "the number is: 837799 and its length is: 525\n"
     ]
    }
   ],
   "source": [
    "sol=[]\n",
    "m=0\n",
    "for i in range(999999,100001,-1):\n",
    "    if sol_seq(i)>m:\n",
    "        m=sol_seq(i)\n",
    "        sol.append(i)\n",
    "print('the number is: {} and its length is: {}'.format(sol[-1],m))        "
   ]
  },
  {
   "cell_type": "code",
   "execution_count": null,
   "metadata": {},
   "outputs": [],
   "source": []
  }
 ],
 "metadata": {
  "kernelspec": {
   "display_name": "Python 3",
   "language": "python",
   "name": "python3"
  },
  "language_info": {
   "codemirror_mode": {
    "name": "ipython",
    "version": 3
   },
   "file_extension": ".py",
   "mimetype": "text/x-python",
   "name": "python",
   "nbconvert_exporter": "python",
   "pygments_lexer": "ipython3",
   "version": "3.7.4"
  }
 },
 "nbformat": 4,
 "nbformat_minor": 2
}
